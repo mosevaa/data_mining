{
 "cells": [
  {
   "cell_type": "markdown",
   "source": [
    "# Лабораторная работа №3\n",
    "## Выполнила Мосева Алеся"
   ],
   "metadata": {
    "collapsed": false
   }
  },
  {
   "cell_type": "markdown",
   "source": [
    "# ЛР3. NB, LR, SVM"
   ],
   "metadata": {
    "collapsed": false
   }
  },
  {
   "cell_type": "code",
   "execution_count": 1,
   "metadata": {
    "ExecuteTime": {
     "start_time": "2023-05-07T13:32:42.848052Z",
     "end_time": "2023-05-07T13:32:43.018052Z"
    }
   },
   "outputs": [],
   "source": [
    "import numpy as np \n",
    "import pandas as pd \n",
    "\n",
    "from sklearn import preprocessing\n",
    "import matplotlib.pyplot as plt \n",
    "plt.rc(\"font\", size=14)\n",
    "import seaborn as sns\n",
    "sns.set(style=\"white\") #white background style for seaborn plots\n",
    "sns.set(style=\"whitegrid\", color_codes=True)\n",
    "\n",
    "import warnings\n",
    "warnings.simplefilter(action='ignore')"
   ]
  },
  {
   "cell_type": "code",
   "execution_count": 2,
   "metadata": {
    "ExecuteTime": {
     "start_time": "2023-05-07T13:32:44.040254Z",
     "end_time": "2023-05-07T13:32:44.105254Z"
    }
   },
   "outputs": [
    {
     "data": {
      "text/plain": "   PassengerId  Survived  Pclass   \n0            1         0       3  \\\n1            2         1       1   \n2            3         1       3   \n3            4         1       1   \n4            5         0       3   \n\n                                                Name     Sex   Age  SibSp   \n0                            Braund, Mr. Owen Harris    male  22.0      1  \\\n1  Cumings, Mrs. John Bradley (Florence Briggs Th...  female  38.0      1   \n2                             Heikkinen, Miss. Laina  female  26.0      0   \n3       Futrelle, Mrs. Jacques Heath (Lily May Peel)  female  35.0      1   \n4                           Allen, Mr. William Henry    male  35.0      0   \n\n   Parch            Ticket     Fare Cabin Embarked  \n0      0         A/5 21171   7.2500   NaN        S  \n1      0          PC 17599  71.2833   C85        C  \n2      0  STON/O2. 3101282   7.9250   NaN        S  \n3      0            113803  53.1000  C123        S  \n4      0            373450   8.0500   NaN        S  ",
      "text/html": "<div>\n<style scoped>\n    .dataframe tbody tr th:only-of-type {\n        vertical-align: middle;\n    }\n\n    .dataframe tbody tr th {\n        vertical-align: top;\n    }\n\n    .dataframe thead th {\n        text-align: right;\n    }\n</style>\n<table border=\"1\" class=\"dataframe\">\n  <thead>\n    <tr style=\"text-align: right;\">\n      <th></th>\n      <th>PassengerId</th>\n      <th>Survived</th>\n      <th>Pclass</th>\n      <th>Name</th>\n      <th>Sex</th>\n      <th>Age</th>\n      <th>SibSp</th>\n      <th>Parch</th>\n      <th>Ticket</th>\n      <th>Fare</th>\n      <th>Cabin</th>\n      <th>Embarked</th>\n    </tr>\n  </thead>\n  <tbody>\n    <tr>\n      <th>0</th>\n      <td>1</td>\n      <td>0</td>\n      <td>3</td>\n      <td>Braund, Mr. Owen Harris</td>\n      <td>male</td>\n      <td>22.0</td>\n      <td>1</td>\n      <td>0</td>\n      <td>A/5 21171</td>\n      <td>7.2500</td>\n      <td>NaN</td>\n      <td>S</td>\n    </tr>\n    <tr>\n      <th>1</th>\n      <td>2</td>\n      <td>1</td>\n      <td>1</td>\n      <td>Cumings, Mrs. John Bradley (Florence Briggs Th...</td>\n      <td>female</td>\n      <td>38.0</td>\n      <td>1</td>\n      <td>0</td>\n      <td>PC 17599</td>\n      <td>71.2833</td>\n      <td>C85</td>\n      <td>C</td>\n    </tr>\n    <tr>\n      <th>2</th>\n      <td>3</td>\n      <td>1</td>\n      <td>3</td>\n      <td>Heikkinen, Miss. Laina</td>\n      <td>female</td>\n      <td>26.0</td>\n      <td>0</td>\n      <td>0</td>\n      <td>STON/O2. 3101282</td>\n      <td>7.9250</td>\n      <td>NaN</td>\n      <td>S</td>\n    </tr>\n    <tr>\n      <th>3</th>\n      <td>4</td>\n      <td>1</td>\n      <td>1</td>\n      <td>Futrelle, Mrs. Jacques Heath (Lily May Peel)</td>\n      <td>female</td>\n      <td>35.0</td>\n      <td>1</td>\n      <td>0</td>\n      <td>113803</td>\n      <td>53.1000</td>\n      <td>C123</td>\n      <td>S</td>\n    </tr>\n    <tr>\n      <th>4</th>\n      <td>5</td>\n      <td>0</td>\n      <td>3</td>\n      <td>Allen, Mr. William Henry</td>\n      <td>male</td>\n      <td>35.0</td>\n      <td>0</td>\n      <td>0</td>\n      <td>373450</td>\n      <td>8.0500</td>\n      <td>NaN</td>\n      <td>S</td>\n    </tr>\n  </tbody>\n</table>\n</div>"
     },
     "execution_count": 2,
     "metadata": {},
     "output_type": "execute_result"
    }
   ],
   "source": [
    "# Создадим DataFrame train_df из CSV train.csv\n",
    "train_df = pd.read_csv(\"./train.csv\")\n",
    "\n",
    "# Создадим DataFrame test_df из CSV test.csv\n",
    "test_df = pd.read_csv(\"./test.csv\")\n",
    "\n",
    "train_df.head()"
   ]
  },
  {
   "cell_type": "code",
   "execution_count": 3,
   "metadata": {
    "ExecuteTime": {
     "start_time": "2023-05-07T13:32:45.432310Z",
     "end_time": "2023-05-07T13:32:45.438309Z"
    }
   },
   "outputs": [
    {
     "name": "stdout",
     "output_type": "stream",
     "text": [
      "891\n",
      "418\n"
     ]
    }
   ],
   "source": [
    "#Посчитайте количество объектов в DF train и test\n",
    "print(train_df['PassengerId'].count())\n",
    "print(test_df['PassengerId'].count())"
   ]
  },
  {
   "cell_type": "markdown",
   "metadata": {},
   "source": [
    "<font color=red>  Примечание. В тестовых данных нет целевой переменной (т. е. столбец «Survival» отсутствует), поэтому цель состоит в том, чтобы предсказать эту переменную с использованием различных алгоритмов машинного обучения, таких как логистическая регрессия. </font>"
   ]
  },
  {
   "cell_type": "code",
   "execution_count": 4,
   "metadata": {
    "ExecuteTime": {
     "start_time": "2023-05-07T13:32:47.018990Z",
     "end_time": "2023-05-07T13:32:47.042990Z"
    }
   },
   "outputs": [
    {
     "data": {
      "text/plain": "PassengerId      0\nSurvived         0\nPclass           0\nName             0\nSex              0\nAge            177\nSibSp            0\nParch            0\nTicket           0\nFare             0\nCabin          687\nEmbarked         2\ndtype: int64"
     },
     "execution_count": 4,
     "metadata": {},
     "output_type": "execute_result"
    }
   ],
   "source": [
    "# Проверьте, есть ли в данных train_df пропущенные значения\n",
    "train_df.isna().sum()"
   ]
  },
  {
   "cell_type": "markdown",
   "metadata": {},
   "source": [
    "Давайте разберемся с графиой \"Age\"\n",
    "Ответьте на вопросы и сделайте следующие дейтсвия\n",
    "\n",
    "Сколько процентов значений пропущено?\n",
    "Найдите медиану и среднее значение переменной.\n",
    "Постойте гистаграмму.\n",
    "Какое значение больше: медиана или среднее?"
   ]
  },
  {
   "cell_type": "code",
   "execution_count": 5,
   "metadata": {
    "ExecuteTime": {
     "start_time": "2023-05-07T13:32:48.432654Z",
     "end_time": "2023-05-07T13:32:48.454653Z"
    }
   },
   "outputs": [
    {
     "data": {
      "text/plain": "19.865319865319865"
     },
     "execution_count": 5,
     "metadata": {},
     "output_type": "execute_result"
    }
   ],
   "source": [
    "train_df['Age'].isna().sum() / train_df['PassengerId'].count() * 100"
   ]
  },
  {
   "cell_type": "code",
   "execution_count": 6,
   "outputs": [
    {
     "name": "stdout",
     "output_type": "stream",
     "text": [
      "28.0\n",
      "29.69911764705882\n"
     ]
    }
   ],
   "source": [
    "print(train_df['Age'].median())\n",
    "print(train_df['Age'].mean())"
   ],
   "metadata": {
    "collapsed": false,
    "ExecuteTime": {
     "start_time": "2023-05-07T13:32:48.948650Z",
     "end_time": "2023-05-07T13:32:48.969648Z"
    }
   }
  },
  {
   "cell_type": "markdown",
   "source": [
    "Больше среднее значение, чем медиана"
   ],
   "metadata": {
    "collapsed": false
   }
  },
  {
   "cell_type": "code",
   "execution_count": 7,
   "outputs": [
    {
     "data": {
      "text/plain": "Text(0, 0.5, 'Count')"
     },
     "execution_count": 7,
     "metadata": {},
     "output_type": "execute_result"
    },
    {
     "data": {
      "text/plain": "<Figure size 640x480 with 1 Axes>",
      "image/png": "[encoded data removed]"
     },
     "metadata": {},
     "output_type": "display_data"
    }
   ],
   "source": [
    "import matplotlib.pyplot as plt\n",
    "plt.hist(train_df['Age'])\n",
    "plt.xlabel('Age')\n",
    "plt.ylabel('Count')"
   ],
   "metadata": {
    "collapsed": false,
    "ExecuteTime": {
     "start_time": "2023-05-07T13:32:50.491217Z",
     "end_time": "2023-05-07T13:32:50.715246Z"
    }
   }
  },
  {
   "cell_type": "markdown",
   "metadata": {},
   "source": [
    "Так как график распределения смещён вправа, использование среднего значения может дать нам необъективные результаты из-за заполнения возрастов, которые старше желаемого. Чтобы справиться с этим, мы будем использовать медиану для вменения пропущенных значений."
   ]
  },
  {
   "cell_type": "markdown",
   "metadata": {},
   "source": [
    "Давайте разберемся с графиой \"Cabin\"\n",
    "\n",
    "Сколько процентов значений пропущено?"
   ]
  },
  {
   "cell_type": "code",
   "execution_count": 8,
   "metadata": {
    "ExecuteTime": {
     "start_time": "2023-05-07T13:32:53.014283Z",
     "end_time": "2023-05-07T13:32:53.031283Z"
    }
   },
   "outputs": [
    {
     "data": {
      "text/plain": "77.10437710437711"
     },
     "execution_count": 8,
     "metadata": {},
     "output_type": "execute_result"
    }
   ],
   "source": [
    "train_df['Cabin'].isna().sum() / train_df['PassengerId'].count() * 100"
   ]
  },
  {
   "cell_type": "markdown",
   "metadata": {},
   "source": [
    "<font color=green>  Если в столбце больше половины пропусков, то он не информативен для нас. В дальнейшем мы его уберем </font>"
   ]
  },
  {
   "cell_type": "markdown",
   "metadata": {},
   "source": [
    "Давайте разберемся с графиой \"Embarked\"\n",
    "\n",
    "Сколько процентов значений пропущено?"
   ]
  },
  {
   "cell_type": "code",
   "execution_count": 9,
   "metadata": {
    "ExecuteTime": {
     "start_time": "2023-05-07T13:32:54.396638Z",
     "end_time": "2023-05-07T13:32:54.451666Z"
    }
   },
   "outputs": [
    {
     "data": {
      "text/plain": "0.22446689113355783"
     },
     "execution_count": 9,
     "metadata": {},
     "output_type": "execute_result"
    }
   ],
   "source": [
    "train_df['Embarked'].isna().sum() / train_df['PassengerId'].count() * 100"
   ]
  },
  {
   "cell_type": "code",
   "execution_count": 10,
   "metadata": {
    "ExecuteTime": {
     "start_time": "2023-05-07T13:32:54.916287Z",
     "end_time": "2023-05-07T13:32:54.938284Z"
    }
   },
   "outputs": [],
   "source": [
    "train_data = train_df.copy()"
   ]
  },
  {
   "cell_type": "markdown",
   "metadata": {},
   "source": [
    "Основываясь на оценке отсутствующих значений в наборе данных, внесите в данные следующие изменения:\n",
    "\n",
    "Если в строке отсутствует «Age», вставьте средний возраст.\n",
    "Если отсутствует «Embarked», замените его на наиболее распространенный порт посадки.\n",
    "Удалите столбец \"Cabin\""
   ]
  },
  {
   "cell_type": "code",
   "execution_count": 11,
   "metadata": {
    "ExecuteTime": {
     "start_time": "2023-05-07T13:32:56.268690Z",
     "end_time": "2023-05-07T13:32:56.288689Z"
    }
   },
   "outputs": [
    {
     "data": {
      "text/plain": "0"
     },
     "execution_count": 11,
     "metadata": {},
     "output_type": "execute_result"
    }
   ],
   "source": [
    "mean_age = train_df['Age'].mean()\n",
    "train_data['Age'] = train_data['Age'].fillna(mean_age)\n",
    "train_data['Age'].isna().sum()"
   ]
  },
  {
   "cell_type": "code",
   "execution_count": 12,
   "outputs": [
    {
     "data": {
      "text/plain": "0"
     },
     "execution_count": 12,
     "metadata": {},
     "output_type": "execute_result"
    }
   ],
   "source": [
    "fill_embarked= train_data['Embarked'].value_counts().idxmax()\n",
    "train_data['Embarked'] = train_data['Embarked'].fillna(fill_embarked)\n",
    "train_data['Embarked'].isna().sum()"
   ],
   "metadata": {
    "collapsed": false,
    "ExecuteTime": {
     "start_time": "2023-05-07T13:32:56.772130Z",
     "end_time": "2023-05-07T13:32:56.800129Z"
    }
   }
  },
  {
   "cell_type": "code",
   "execution_count": 13,
   "outputs": [],
   "source": [
    "train_data = train_data.drop('Cabin', axis=1)"
   ],
   "metadata": {
    "collapsed": false,
    "ExecuteTime": {
     "start_time": "2023-05-07T13:32:57.579298Z",
     "end_time": "2023-05-07T13:32:57.594298Z"
    }
   }
  },
  {
   "cell_type": "markdown",
   "metadata": {},
   "source": [
    "Выполните проверку на пустые значения. Таковых остаться не должно"
   ]
  },
  {
   "cell_type": "code",
   "execution_count": 14,
   "metadata": {
    "ExecuteTime": {
     "start_time": "2023-05-07T13:33:00.583084Z",
     "end_time": "2023-05-07T13:33:00.599063Z"
    }
   },
   "outputs": [
    {
     "data": {
      "text/plain": "PassengerId    0\nSurvived       0\nPclass         0\nName           0\nSex            0\nAge            0\nSibSp          0\nParch          0\nTicket         0\nFare           0\nEmbarked       0\ndtype: int64"
     },
     "execution_count": 14,
     "metadata": {},
     "output_type": "execute_result"
    }
   ],
   "source": [
    "train_data.isna().sum()"
   ]
  },
  {
   "cell_type": "markdown",
   "metadata": {},
   "source": [
    "Согласно словарю данных Kaggle, и SibSp, и Parch относятся к путешествиям с семьей. Для простоты (и для учета возможной мультиколлинеарности) я объединим влияние этих переменных в один категориальный предиктор: путешествовал ли этот человек один или нет (0 или 1).\n",
    "Не забудьте удалить SibSp и Parch (Пока работаем с train_data)"
   ]
  },
  {
   "cell_type": "code",
   "execution_count": 15,
   "metadata": {
    "ExecuteTime": {
     "start_time": "2023-05-07T13:33:02.261636Z",
     "end_time": "2023-05-07T13:33:02.288646Z"
    }
   },
   "outputs": [],
   "source": [
    "train_data['TravelAlone'] = np.where((train_data['SibSp'] + train_data['Parch']) > 0, 0, 1)\n",
    "train_data = train_data.drop(['SibSp', 'Parch'], axis=1)"
   ]
  },
  {
   "cell_type": "markdown",
   "metadata": {},
   "source": [
    "также создадим категориальные переменные для класса пассажира (\"Pclass\"), пола (\"Sex\") и порта посадки (\"Embarked\").\n",
    "Используем функцию pd.get_dummies\n",
    "Не забудьте удалить колонки, из которых делаете dummie-переменные"
   ]
  },
  {
   "cell_type": "code",
   "execution_count": 16,
   "metadata": {
    "ExecuteTime": {
     "start_time": "2023-05-07T13:33:05.693647Z",
     "end_time": "2023-05-07T13:33:05.737679Z"
    }
   },
   "outputs": [
    {
     "data": {
      "text/plain": "     PassengerId  Survived                                               Name   \n0              1         0                            Braund, Mr. Owen Harris  \\\n1              2         1  Cumings, Mrs. John Bradley (Florence Briggs Th...   \n2              3         1                             Heikkinen, Miss. Laina   \n3              4         1       Futrelle, Mrs. Jacques Heath (Lily May Peel)   \n4              5         0                           Allen, Mr. William Henry   \n..           ...       ...                                                ...   \n886          887         0                              Montvila, Rev. Juozas   \n887          888         1                       Graham, Miss. Margaret Edith   \n888          889         0           Johnston, Miss. Catherine Helen \"Carrie\"   \n889          890         1                              Behr, Mr. Karl Howell   \n890          891         0                                Dooley, Mr. Patrick   \n\n           Age            Ticket     Fare  TravelAlone  Pclass_1  Pclass_2   \n0    22.000000         A/5 21171   7.2500            0     False     False  \\\n1    38.000000          PC 17599  71.2833            0      True     False   \n2    26.000000  STON/O2. 3101282   7.9250            1     False     False   \n3    35.000000            113803  53.1000            0      True     False   \n4    35.000000            373450   8.0500            1     False     False   \n..         ...               ...      ...          ...       ...       ...   \n886  27.000000            211536  13.0000            1     False      True   \n887  19.000000            112053  30.0000            1      True     False   \n888  29.699118        W./C. 6607  23.4500            0     False     False   \n889  26.000000            111369  30.0000            1      True     False   \n890  32.000000            370376   7.7500            1     False     False   \n\n     Pclass_3  Sex_female  Sex_male  Embarked_C  Embarked_Q  Embarked_S  \n0        True       False      True       False       False        True  \n1       False        True     False        True       False       False  \n2        True        True     False       False       False        True  \n3       False        True     False       False       False        True  \n4        True       False      True       False       False        True  \n..        ...         ...       ...         ...         ...         ...  \n886     False       False      True       False       False        True  \n887     False        True     False       False       False        True  \n888      True        True     False       False       False        True  \n889     False       False      True        True       False       False  \n890      True       False      True       False        True       False  \n\n[891 rows x 15 columns]",
      "text/html": "<div>\n<style scoped>\n    .dataframe tbody tr th:only-of-type {\n        vertical-align: middle;\n    }\n\n    .dataframe tbody tr th {\n        vertical-align: top;\n    }\n\n    .dataframe thead th {\n        text-align: right;\n    }\n</style>\n<table border=\"1\" class=\"dataframe\">\n  <thead>\n    <tr style=\"text-align: right;\">\n      <th></th>\n      <th>PassengerId</th>\n      <th>Survived</th>\n      <th>Name</th>\n      <th>Age</th>\n      <th>Ticket</th>\n      <th>Fare</th>\n      <th>TravelAlone</th>\n      <th>Pclass_1</th>\n      <th>Pclass_2</th>\n      <th>Pclass_3</th>\n      <th>Sex_female</th>\n      <th>Sex_male</th>\n      <th>Embarked_C</th>\n      <th>Embarked_Q</th>\n      <th>Embarked_S</th>\n    </tr>\n  </thead>\n  <tbody>\n    <tr>\n      <th>0</th>\n      <td>1</td>\n      <td>0</td>\n      <td>Braund, Mr. Owen Harris</td>\n      <td>22.000000</td>\n      <td>A/5 21171</td>\n      <td>7.2500</td>\n      <td>0</td>\n      <td>False</td>\n      <td>False</td>\n      <td>True</td>\n      <td>False</td>\n      <td>True</td>\n      <td>False</td>\n      <td>False</td>\n      <td>True</td>\n    </tr>\n    <tr>\n      <th>1</th>\n      <td>2</td>\n      <td>1</td>\n      <td>Cumings, Mrs. John Bradley (Florence Briggs Th...</td>\n      <td>38.000000</td>\n      <td>PC 17599</td>\n      <td>71.2833</td>\n      <td>0</td>\n      <td>True</td>\n      <td>False</td>\n      <td>False</td>\n      <td>True</td>\n      <td>False</td>\n      <td>True</td>\n      <td>False</td>\n      <td>False</td>\n    </tr>\n    <tr>\n      <th>2</th>\n      <td>3</td>\n      <td>1</td>\n      <td>Heikkinen, Miss. Laina</td>\n      <td>26.000000</td>\n      <td>STON/O2. 3101282</td>\n      <td>7.9250</td>\n      <td>1</td>\n      <td>False</td>\n      <td>False</td>\n      <td>True</td>\n      <td>True</td>\n      <td>False</td>\n      <td>False</td>\n      <td>False</td>\n      <td>True</td>\n    </tr>\n    <tr>\n      <th>3</th>\n      <td>4</td>\n      <td>1</td>\n      <td>Futrelle, Mrs. Jacques Heath (Lily May Peel)</td>\n      <td>35.000000</td>\n      <td>113803</td>\n      <td>53.1000</td>\n      <td>0</td>\n      <td>True</td>\n      <td>False</td>\n      <td>False</td>\n      <td>True</td>\n      <td>False</td>\n      <td>False</td>\n      <td>False</td>\n      <td>True</td>\n    </tr>\n    <tr>\n      <th>4</th>\n      <td>5</td>\n      <td>0</td>\n      <td>Allen, Mr. William Henry</td>\n      <td>35.000000</td>\n      <td>373450</td>\n      <td>8.0500</td>\n      <td>1</td>\n      <td>False</td>\n      <td>False</td>\n      <td>True</td>\n      <td>False</td>\n      <td>True</td>\n      <td>False</td>\n      <td>False</td>\n      <td>True</td>\n    </tr>\n    <tr>\n      <th>...</th>\n      <td>...</td>\n      <td>...</td>\n      <td>...</td>\n      <td>...</td>\n      <td>...</td>\n      <td>...</td>\n      <td>...</td>\n      <td>...</td>\n      <td>...</td>\n      <td>...</td>\n      <td>...</td>\n      <td>...</td>\n      <td>...</td>\n      <td>...</td>\n      <td>...</td>\n    </tr>\n    <tr>\n      <th>886</th>\n      <td>887</td>\n      <td>0</td>\n      <td>Montvila, Rev. Juozas</td>\n      <td>27.000000</td>\n      <td>211536</td>\n      <td>13.0000</td>\n      <td>1</td>\n      <td>False</td>\n      <td>True</td>\n      <td>False</td>\n      <td>False</td>\n      <td>True</td>\n      <td>False</td>\n      <td>False</td>\n      <td>True</td>\n    </tr>\n    <tr>\n      <th>887</th>\n      <td>888</td>\n      <td>1</td>\n      <td>Graham, Miss. Margaret Edith</td>\n      <td>19.000000</td>\n      <td>112053</td>\n      <td>30.0000</td>\n      <td>1</td>\n      <td>True</td>\n      <td>False</td>\n      <td>False</td>\n      <td>True</td>\n      <td>False</td>\n      <td>False</td>\n      <td>False</td>\n      <td>True</td>\n    </tr>\n    <tr>\n      <th>888</th>\n      <td>889</td>\n      <td>0</td>\n      <td>Johnston, Miss. Catherine Helen \"Carrie\"</td>\n      <td>29.699118</td>\n      <td>W./C. 6607</td>\n      <td>23.4500</td>\n      <td>0</td>\n      <td>False</td>\n      <td>False</td>\n      <td>True</td>\n      <td>True</td>\n      <td>False</td>\n      <td>False</td>\n      <td>False</td>\n      <td>True</td>\n    </tr>\n    <tr>\n      <th>889</th>\n      <td>890</td>\n      <td>1</td>\n      <td>Behr, Mr. Karl Howell</td>\n      <td>26.000000</td>\n      <td>111369</td>\n      <td>30.0000</td>\n      <td>1</td>\n      <td>True</td>\n      <td>False</td>\n      <td>False</td>\n      <td>False</td>\n      <td>True</td>\n      <td>True</td>\n      <td>False</td>\n      <td>False</td>\n    </tr>\n    <tr>\n      <th>890</th>\n      <td>891</td>\n      <td>0</td>\n      <td>Dooley, Mr. Patrick</td>\n      <td>32.000000</td>\n      <td>370376</td>\n      <td>7.7500</td>\n      <td>1</td>\n      <td>False</td>\n      <td>False</td>\n      <td>True</td>\n      <td>False</td>\n      <td>True</td>\n      <td>False</td>\n      <td>True</td>\n      <td>False</td>\n    </tr>\n  </tbody>\n</table>\n<p>891 rows × 15 columns</p>\n</div>"
     },
     "execution_count": 16,
     "metadata": {},
     "output_type": "execute_result"
    }
   ],
   "source": [
    "train_data = pd.get_dummies(train_data, columns=['Pclass', 'Sex', 'Embarked'])\n",
    "train_data"
   ]
  },
  {
   "cell_type": "markdown",
   "metadata": {},
   "source": [
    "Теперь примените те же изменения к тестовым данным.\n",
    "\n",
    "Применим то же значение для «Возраст» в тестовых данных, что и для моих данных обучения (если отсутствует, возраст = 28).\n",
    "Уберем «Cabin» из тестовых данных\n",
    "В переменной порта \"Embarked\" не было пропущенных значений.\n",
    "Добавим dummie переменные.\n",
    "Наконец, заполним 1 пропущенное значение для «Fare» с медианой 14,45."
   ]
  },
  {
   "cell_type": "code",
   "execution_count": 25,
   "metadata": {
    "ExecuteTime": {
     "start_time": "2023-05-07T13:37:51.546751Z",
     "end_time": "2023-05-07T13:37:51.587718Z"
    }
   },
   "outputs": [
    {
     "data": {
      "text/plain": "   PassengerId                                          Name   Age  SibSp   \n0          892                              Kelly, Mr. James  34.5      0  \\\n1          893              Wilkes, Mrs. James (Ellen Needs)  47.0      1   \n2          894                     Myles, Mr. Thomas Francis  62.0      0   \n3          895                              Wirz, Mr. Albert  27.0      0   \n4          896  Hirvonen, Mrs. Alexander (Helga E Lindqvist)  22.0      1   \n\n   Parch   Ticket     Fare  Pclass_1  Pclass_2  Pclass_3  Sex_female   \n0      0   330911   7.8292     False     False      True       False  \\\n1      0   363272   7.0000     False     False      True        True   \n2      0   240276   9.6875     False      True     False       False   \n3      0   315154   8.6625     False     False      True       False   \n4      1  3101298  12.2875     False     False      True        True   \n\n   Sex_male  Embarked_C  Embarked_Q  Embarked_S  \n0      True       False        True       False  \n1     False       False       False        True  \n2      True       False        True       False  \n3      True       False       False        True  \n4     False       False       False        True  ",
      "text/html": "<div>\n<style scoped>\n    .dataframe tbody tr th:only-of-type {\n        vertical-align: middle;\n    }\n\n    .dataframe tbody tr th {\n        vertical-align: top;\n    }\n\n    .dataframe thead th {\n        text-align: right;\n    }\n</style>\n<table border=\"1\" class=\"dataframe\">\n  <thead>\n    <tr style=\"text-align: right;\">\n      <th></th>\n      <th>PassengerId</th>\n      <th>Name</th>\n      <th>Age</th>\n      <th>SibSp</th>\n      <th>Parch</th>\n      <th>Ticket</th>\n      <th>Fare</th>\n      <th>Pclass_1</th>\n      <th>Pclass_2</th>\n      <th>Pclass_3</th>\n      <th>Sex_female</th>\n      <th>Sex_male</th>\n      <th>Embarked_C</th>\n      <th>Embarked_Q</th>\n      <th>Embarked_S</th>\n    </tr>\n  </thead>\n  <tbody>\n    <tr>\n      <th>0</th>\n      <td>892</td>\n      <td>Kelly, Mr. James</td>\n      <td>34.5</td>\n      <td>0</td>\n      <td>0</td>\n      <td>330911</td>\n      <td>7.8292</td>\n      <td>False</td>\n      <td>False</td>\n      <td>True</td>\n      <td>False</td>\n      <td>True</td>\n      <td>False</td>\n      <td>True</td>\n      <td>False</td>\n    </tr>\n    <tr>\n      <th>1</th>\n      <td>893</td>\n      <td>Wilkes, Mrs. James (Ellen Needs)</td>\n      <td>47.0</td>\n      <td>1</td>\n      <td>0</td>\n      <td>363272</td>\n      <td>7.0000</td>\n      <td>False</td>\n      <td>False</td>\n      <td>True</td>\n      <td>True</td>\n      <td>False</td>\n      <td>False</td>\n      <td>False</td>\n      <td>True</td>\n    </tr>\n    <tr>\n      <th>2</th>\n      <td>894</td>\n      <td>Myles, Mr. Thomas Francis</td>\n      <td>62.0</td>\n      <td>0</td>\n      <td>0</td>\n      <td>240276</td>\n      <td>9.6875</td>\n      <td>False</td>\n      <td>True</td>\n      <td>False</td>\n      <td>False</td>\n      <td>True</td>\n      <td>False</td>\n      <td>True</td>\n      <td>False</td>\n    </tr>\n    <tr>\n      <th>3</th>\n      <td>895</td>\n      <td>Wirz, Mr. Albert</td>\n      <td>27.0</td>\n      <td>0</td>\n      <td>0</td>\n      <td>315154</td>\n      <td>8.6625</td>\n      <td>False</td>\n      <td>False</td>\n      <td>True</td>\n      <td>False</td>\n      <td>True</td>\n      <td>False</td>\n      <td>False</td>\n      <td>True</td>\n    </tr>\n    <tr>\n      <th>4</th>\n      <td>896</td>\n      <td>Hirvonen, Mrs. Alexander (Helga E Lindqvist)</td>\n      <td>22.0</td>\n      <td>1</td>\n      <td>1</td>\n      <td>3101298</td>\n      <td>12.2875</td>\n      <td>False</td>\n      <td>False</td>\n      <td>True</td>\n      <td>True</td>\n      <td>False</td>\n      <td>False</td>\n      <td>False</td>\n      <td>True</td>\n    </tr>\n  </tbody>\n</table>\n</div>"
     },
     "execution_count": 25,
     "metadata": {},
     "output_type": "execute_result"
    }
   ],
   "source": [
    "test_data = test_df.copy()\n",
    "test_data['Age'] = test_data['Age'].fillna(28)\n",
    "# test_data = test_data.drop('Cabin')\n",
    "test_data = pd.get_dummies(test_data, columns=['Pclass', 'Sex', 'Embarked'])\n",
    "test_data = test_data.drop('Cabin', axis=1)\n",
    "test_data.head()"
   ]
  },
  {
   "cell_type": "markdown",
   "metadata": {},
   "source": [
    "Оцените выживаемость Пассажиров до 16 лет"
   ]
  },
  {
   "cell_type": "code",
   "execution_count": 27,
   "metadata": {
    "ExecuteTime": {
     "start_time": "2023-05-07T13:38:37.530707Z",
     "end_time": "2023-05-07T13:38:37.548839Z"
    }
   },
   "outputs": [
    {
     "data": {
      "text/plain": "55.00000000000001"
     },
     "execution_count": 27,
     "metadata": {},
     "output_type": "execute_result"
    }
   ],
   "source": [
    "train_data.loc[train_data['Age'] <= 16, 'Survived'].mean() * 100"
   ]
  },
  {
   "cell_type": "markdown",
   "metadata": {},
   "source": [
    "Учитывая выживаемость пассажиров моложе 16 лет,включим в свой набор данных еще одну категориальную переменную: «IsMinor». Значение 1 - если меньше 16 лет, 0 - если больше"
   ]
  },
  {
   "cell_type": "code",
   "execution_count": 28,
   "metadata": {
    "ExecuteTime": {
     "start_time": "2023-05-07T13:40:00.402648Z",
     "end_time": "2023-05-07T13:40:00.418630Z"
    }
   },
   "outputs": [],
   "source": [
    "train_data['IsMinor']=np.where(train_data['Age'] <  16, 1, 0)"
   ]
  },
  {
   "cell_type": "markdown",
   "metadata": {},
   "source": [
    "Определите самый безопасный класс\n",
    "Определите, кому удаолсь выжить с большей вероятностью: кто путешествовал в одиночку или нет"
   ]
  },
  {
   "cell_type": "code",
   "execution_count": 36,
   "metadata": {
    "ExecuteTime": {
     "start_time": "2023-05-07T13:47:43.807209Z",
     "end_time": "2023-05-07T13:47:43.849317Z"
    }
   },
   "outputs": [
    {
     "name": "stdout",
     "output_type": "stream",
     "text": [
      "First class: 15.26374859708193 \n",
      "Second class: 9.764309764309765\n",
      "Third class: 13.35578002244669\n",
      "Travel alone: 18.29405162738496\n"
     ]
    }
   ],
   "source": [
    "print(f'First class: {train_data.loc[train_data[\"Pclass_1\"].isin([1])][\"Survived\"].sum() / train_data[\"Survived\"].count() * 100} ')\n",
    "print(f'Second class: {train_data.loc[train_data[\"Pclass_2\"].isin([1])][\"Survived\"].sum() / train_data[\"Survived\"].count() * 100}')\n",
    "print(f'Third class: {train_data.loc[train_data[\"Pclass_3\"].isin([1])][\"Survived\"].sum() / train_data[\"Survived\"].count() * 100}')\n",
    "print(f'Travel alone: {train_data.loc[train_data[\"TravelAlone\"].isin([1])][\"Survived\"].sum() / train_data[\"Survived\"].count() * 100}')"
   ]
  },
  {
   "cell_type": "markdown",
   "source": [
    "Самый безопасный класс: 1"
   ],
   "metadata": {
    "collapsed": false
   }
  },
  {
   "cell_type": "markdown",
   "metadata": {},
   "source": [
    "\n",
    "##  Выбор признаков для анализа\n",
    "\n",
    "\n",
    "### Рекурсивное устранение признаков\n",
    "\n",
    "рекурсивное исключение функций (RFE) заключается в выборе функций путем рекурсивного рассмотрения все меньших и меньших наборов функций. Во-первых, оценщик обучается на начальном наборе признаков, и важность каждого признака определяется либо с помощью атрибута «coef_», либо с помощью атрибута «feature_importances_». Затем наименее важные функции удаляются из текущего набора функций. Эта процедура рекурсивно повторяется для сокращенного набора до тех пор, пока в конечном итоге не будет достигнуто желаемое количество функций для выбора.\n",
    "\n",
    "Изучите материалы ниже\n",
    "\n",
    " <br>\n",
    " https://www.helenkapatsa.ru/kross-validatsiia/ <br>\n",
    " https://www.codecamp.ru/blog/cross-validation-k-fold/ <br>\n",
    "http://scikit-learn.org/stable/modules/feature_selection.html <br>"
   ]
  },
  {
   "cell_type": "code",
   "execution_count": 38,
   "metadata": {
    "ExecuteTime": {
     "start_time": "2023-05-07T13:48:49.024252Z",
     "end_time": "2023-05-07T13:48:49.101252Z"
    }
   },
   "outputs": [
    {
     "name": "stdout",
     "output_type": "stream",
     "text": [
      "Selected features: ['Age', 'TravelAlone', 'Pclass_1', 'Pclass_2', 'Embarked_C', 'Embarked_S', 'Sex_male', 'IsMinor']\n"
     ]
    }
   ],
   "source": [
    "from sklearn.linear_model import LogisticRegression\n",
    "from sklearn.feature_selection import RFE\n",
    "\n",
    "cols = [\"Age\",\"Fare\",\"TravelAlone\",\"Pclass_1\",\"Pclass_2\",\"Embarked_C\",\"Embarked_S\",\"Sex_male\",\"IsMinor\"] \n",
    "X = train_data[cols]\n",
    "y = train_data['Survived']\n",
    "# Создайте logreg и вычислите важность функций\n",
    "model = LogisticRegression()\n",
    "# создайте модель RFE и выберите 8 атрибутов\n",
    "rfe = RFE(model, n_features_to_select=8)\n",
    "rfe = rfe.fit(X, y)\n",
    "# резюмируем  выбор атрибутов\n",
    "print('Selected features: %s' % list(X.columns[rfe.support_]))"
   ]
  },
  {
   "cell_type": "code",
   "execution_count": 39,
   "metadata": {
    "ExecuteTime": {
     "start_time": "2023-05-07T13:49:05.039213Z",
     "end_time": "2023-05-07T13:49:05.342212Z"
    }
   },
   "outputs": [
    {
     "data": {
      "text/plain": "<Figure size 800x500 with 2 Axes>",
      "image/png": "[encoded data removed]"
     },
     "metadata": {},
     "output_type": "display_data"
    }
   ],
   "source": [
    "Selected_features = ['Age', 'TravelAlone', 'Pclass_1', 'Pclass_2', 'Embarked_C', \n",
    "                     'Embarked_S', 'Sex_male', 'IsMinor']\n",
    "X = train_data[Selected_features]\n",
    "\n",
    "plt.subplots(figsize=(8, 5))\n",
    "sns.heatmap(X.corr(), annot=True, cmap=\"RdYlGn\")\n",
    "plt.show()"
   ]
  },
  {
   "cell_type": "markdown",
   "metadata": {},
   "source": [
    "## представьте, перед вами стоит задача оценки качества работы модели машинного обучения и сравнения таких моделей межд собой\n",
    "\n",
    "идея: разделение датасета на выборку для обучения и тестирования\n",
    "\n",
    "### Оценка модели на основе простого разделения train/test с использованием функции `train_test_split()`"
   ]
  },
  {
   "cell_type": "code",
   "execution_count": 40,
   "metadata": {
    "ExecuteTime": {
     "start_time": "2023-05-07T13:49:39.104653Z",
     "end_time": "2023-05-07T13:49:39.137653Z"
    }
   },
   "outputs": [
    {
     "name": "stdout",
     "output_type": "stream",
     "text": [
      "Train/Test split results:\n",
      "LogisticRegression accuracy is 0.788\n",
      "LogisticRegression log_loss is 0.503\n",
      "LogisticRegression auc is 0.838\n"
     ]
    }
   ],
   "source": [
    "from sklearn.model_selection import train_test_split, cross_val_score\n",
    "from sklearn.metrics import accuracy_score, classification_report, precision_score, recall_score \n",
    "from sklearn.metrics import confusion_matrix, precision_recall_curve, roc_curve, auc, log_loss\n",
    "\n",
    "# create X (features) and y (response)\n",
    "X = train_data[Selected_features]\n",
    "y = train_data['Survived']\n",
    "\n",
    "# можно использовать разделение обучения/тестирования с разными значениями random_state\n",
    "# мы можем изменить значения random_state, которые изменят показатели точности\n",
    "# результаты сильно меняются, поэтому результаты тестирования являются оценкой с высокой дисперсией\n",
    "# test_size разделяет выборку на тестовую и убучающую в соотношении 20/80\n",
    "X_train, X_test, y_train, y_test = train_test_split(X, y, test_size=0.2, random_state=2)\n",
    "\n",
    "# check classification scores of logistic regression\n",
    "logreg = LogisticRegression()\n",
    "logreg.fit(X_train, y_train)\n",
    "y_pred = logreg.predict(X_test)\n",
    "y_pred_proba = logreg.predict_proba(X_test)[:, 1]\n",
    "[fpr, tpr, thr] = roc_curve(y_test, y_pred_proba)\n",
    "print('Train/Test split results:')\n",
    "print(logreg.__class__.__name__+\" accuracy is %2.3f\" % accuracy_score(y_test, y_pred))\n",
    "print(logreg.__class__.__name__+\" log_loss is %2.3f\" % log_loss(y_test, y_pred_proba))\n",
    "print(logreg.__class__.__name__+\" auc is %2.3f\" % auc(fpr, tpr))"
   ]
  },
  {
   "cell_type": "markdown",
   "metadata": {},
   "source": [
    "### Оценка модели на основе K-fold cross-validation с использованием функции cross_val_score()"
   ]
  },
  {
   "cell_type": "code",
   "execution_count": 41,
   "metadata": {
    "ExecuteTime": {
     "start_time": "2023-05-07T13:49:58.956732Z",
     "end_time": "2023-05-07T13:49:59.589731Z"
    }
   },
   "outputs": [
    {
     "name": "stdout",
     "output_type": "stream",
     "text": [
      "K-fold cross-validation results:\n",
      "LogisticRegression average accuracy is 0.801\n",
      "LogisticRegression average log_loss is 0.454\n",
      "LogisticRegression average auc is 0.850\n"
     ]
    }
   ],
   "source": [
    "# 10-fold cross-validation logistic regression\n",
    "logreg = LogisticRegression()\n",
    "# Используем cross_val_score function\n",
    "# Мы передаём полные X and y, а не X_train и y_train, функция сама разбивает данные\n",
    "# cv=10 for 10 folds\n",
    "# scoring = {'accuracy', 'neg_log_loss', 'roc_auc'} в качестве метрик оценивания результата (есть и другие)\n",
    "scores_accuracy = cross_val_score(logreg, X, y, cv=10, scoring='accuracy')\n",
    "scores_log_loss = cross_val_score(logreg, X, y, cv=10, scoring='neg_log_loss')\n",
    "scores_auc = cross_val_score(logreg, X, y, cv=10, scoring='roc_auc')\n",
    "print('K-fold cross-validation results:')\n",
    "print(logreg.__class__.__name__+\" average accuracy is %2.3f\" % scores_accuracy.mean())\n",
    "print(logreg.__class__.__name__+\" average log_loss is %2.3f\" % -scores_log_loss.mean())\n",
    "print(logreg.__class__.__name__+\" average auc is %2.3f\" % scores_auc.mean())"
   ]
  },
  {
   "cell_type": "markdown",
   "metadata": {},
   "source": [
    "### Оценка модели на основе K-fold cross-validation с использованием функции cross_validate()"
   ]
  },
  {
   "cell_type": "code",
   "execution_count": 42,
   "metadata": {
    "ExecuteTime": {
     "start_time": "2023-05-07T13:50:08.451271Z",
     "end_time": "2023-05-07T13:50:08.637258Z"
    }
   },
   "outputs": [
    {
     "name": "stdout",
     "output_type": "stream",
     "text": [
      "K-fold cross-validation results:\n",
      "LogisticRegression average accuracy: 0.801 (+/-0.028)\n",
      "LogisticRegression average log_loss: 0.454 (+/-0.039)\n",
      "LogisticRegression average auc: 0.850 (+/-0.029)\n"
     ]
    }
   ],
   "source": [
    "from sklearn.model_selection import cross_validate\n",
    "\n",
    "scoring = {'accuracy': 'accuracy', 'log_loss': 'neg_log_loss', 'auc': 'roc_auc'}\n",
    "\n",
    "modelCV = LogisticRegression()\n",
    "\n",
    "results = cross_validate(modelCV, X, y, cv=10, scoring=list(scoring.values()), \n",
    "                         return_train_score=False)\n",
    "\n",
    "print('K-fold cross-validation results:')\n",
    "for sc in range(len(scoring)):\n",
    "    print(modelCV.__class__.__name__+\" average %s: %.3f (+/-%.3f)\" % (list(scoring.keys())[sc], -results['test_%s' % list(scoring.values())[sc]].mean()\n",
    "                               if list(scoring.values())[sc]=='neg_log_loss' \n",
    "                               else results['test_%s' % list(scoring.values())[sc]].mean(), \n",
    "                               results['test_%s' % list(scoring.values())[sc]].std()))"
   ]
  },
  {
   "attachments": {},
   "cell_type": "markdown",
   "metadata": {},
   "source": [
    "\n",
    "Формула Байеса\n",
    "\n",
    "\n",
    "$$\n",
    "P (A | B) = \\frac{P ( B ∣ A ) P ( A )}{P ( B )}\n",
    "$$\n",
    "\n",
    "\n",
    "    где\n",
    "\n",
    "        P ( A ) P(A) — априорная вероятность гипотезы A (смысл такой терминологии см. ниже);\n",
    "        P ( A ∣ B ) — вероятность гипотезы A при наступлении события B (апостериорная вероятность);\n",
    "        P ( B ∣ A )  — вероятность наступления события B при истинности гипотезы A;\n",
    "        P ( B ) P(B) — полная вероятность наступления события B.\n",
    "\n"
   ]
  },
  {
   "cell_type": "code",
   "execution_count": 43,
   "metadata": {
    "ExecuteTime": {
     "start_time": "2023-05-07T13:50:30.029279Z",
     "end_time": "2023-05-07T13:50:30.034279Z"
    }
   },
   "outputs": [],
   "source": [
    "import matplotlib.pyplot as plt\n",
    "from scipy.stats.stats import pearsonr\n",
    "from sklearn.naive_bayes import GaussianNB\n",
    "from sklearn.model_selection import train_test_split\n",
    "from sklearn.metrics import accuracy_score, recall_score, precision_score"
   ]
  },
  {
   "cell_type": "code",
   "execution_count": 49,
   "metadata": {
    "ExecuteTime": {
     "start_time": "2023-05-07T13:55:35.337819Z",
     "end_time": "2023-05-07T13:55:35.352821Z"
    }
   },
   "outputs": [
    {
     "name": "stdout",
     "output_type": "stream",
     "text": [
      "\n"
     ]
    }
   ],
   "source": [
    "classifier = GaussianNB()\n",
    "classifier.fit(X_train, y_train)\n",
    "print()\n",
    "#X_train, X_test, y_train, y_test = train_test_split(X, y, test_size=0.2, random_state=2)"
   ]
  },
  {
   "cell_type": "code",
   "execution_count": 45,
   "metadata": {
    "ExecuteTime": {
     "start_time": "2023-05-07T13:50:50.813251Z",
     "end_time": "2023-05-07T13:50:50.842253Z"
    }
   },
   "outputs": [
    {
     "name": "stdout",
     "output_type": "stream",
     "text": [
      "Model metrics\n",
      "Accuracy  Train: 0.78, Validation: 0.77\n",
      "Recall    Train: 0.68, Validation: 0.76\n",
      "Precision Train: 0.78, Validation: 0.68\n"
     ]
    }
   ],
   "source": [
    "\n",
    "def cross_validate(estimator, train, validation):\n",
    "    X_train = train[0]\n",
    "    Y_train = train[1]\n",
    "    X_val = validation[0]\n",
    "    Y_val = validation[1]\n",
    "    train_predictions = classifier.predict(X_train)\n",
    "    train_accuracy = accuracy_score(train_predictions, Y_train)\n",
    "    train_recall = recall_score(train_predictions, Y_train)\n",
    "    train_precision = precision_score(train_predictions, Y_train)\n",
    "\n",
    "    val_predictions = classifier.predict(X_val)\n",
    "    val_accuracy = accuracy_score(val_predictions, Y_val)\n",
    "    val_recall = recall_score(val_predictions, Y_val)\n",
    "    val_precision = precision_score(val_predictions, Y_val)\n",
    "\n",
    "    print('Model metrics')\n",
    "    print('Accuracy  Train: %.2f, Validation: %.2f' % (train_accuracy, val_accuracy))\n",
    "    print('Recall    Train: %.2f, Validation: %.2f' % (train_recall, val_recall))\n",
    "    print('Precision Train: %.2f, Validation: %.2f' % (train_precision, val_precision))\n",
    "    \n",
    "cross_validate(classifier, (X_train, y_train), (X_test, y_test))"
   ]
  },
  {
   "cell_type": "markdown",
   "metadata": {},
   "source": [
    "## SVM"
   ]
  },
  {
   "cell_type": "code",
   "execution_count": 46,
   "metadata": {
    "ExecuteTime": {
     "start_time": "2023-05-07T13:51:25.888715Z",
     "end_time": "2023-05-07T13:51:25.918714Z"
    }
   },
   "outputs": [
    {
     "name": "stdout",
     "output_type": "stream",
     "text": [
      "0.5698324022346368\n"
     ]
    }
   ],
   "source": [
    "from sklearn.svm import SVC\n",
    "# Declaring the SVC with no tunning\n",
    "classifier = SVC()\n",
    "\n",
    "# Fitting the data. This is where the SVM will learn\n",
    "classifier.fit(X_train, y_train)\n",
    "\n",
    "# Predicting the result and giving the accuracy\n",
    "score = classifier.score(X_test, y_test)\n",
    "\n",
    "print(score)"
   ]
  },
  {
   "cell_type": "code",
   "execution_count": 48,
   "metadata": {
    "ExecuteTime": {
     "start_time": "2023-05-07T13:54:54.068040Z",
     "end_time": "2023-05-07T13:54:54.105039Z"
    }
   },
   "outputs": [
    {
     "data": {
      "text/plain": "0.5977653631284916"
     },
     "execution_count": 48,
     "metadata": {},
     "output_type": "execute_result"
    }
   ],
   "source": [
    "#Посчитайте score, если train set будет состоять только из 3 переменных: ['Sex', 'Age', 'Pclass']\n",
    "selected_fields = ['Age', 'Sex_male', 'Sex_female', 'Pclass_1', 'Pclass_2', 'Pclass_3']\n",
    "X = train_data[selected_fields]\n",
    "y = train_data['Survived']\n",
    "X_train, X_test, y_train, y_test = train_test_split(X, y, test_size=0.2, random_state=42)\n",
    "\n",
    "classifier = SVC()\n",
    "\n",
    "classifier.fit(X_train, y_train)\n",
    "\n",
    "classifier.score(X_test, y_test)"
   ]
  },
  {
   "cell_type": "code",
   "execution_count": null,
   "outputs": [],
   "source": [],
   "metadata": {
    "collapsed": false
   }
  }
 ],
 "metadata": {
  "kernelspec": {
   "display_name": "Python 3",
   "language": "python",
   "name": "python3"
  },
  "language_info": {
   "codemirror_mode": {
    "name": "ipython",
    "version": 3
   },
   "file_extension": ".py",
   "mimetype": "text/x-python",
   "name": "python",
   "nbconvert_exporter": "python",
   "pygments_lexer": "ipython3",
   "version": "3.8.5"
  }
 },
 "nbformat": 4,
 "nbformat_minor": 4
}
